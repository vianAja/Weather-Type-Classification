{
 "cells": [
  {
   "cell_type": "markdown",
   "id": "4d2ae663-d684-4a7e-8e09-cd99ac52e510",
   "metadata": {},
   "source": [
    "## Import Modul pendukung"
   ]
  },
  {
   "cell_type": "code",
   "execution_count": 3,
   "id": "bf4ee18e-408e-4024-9e3b-896ca35f9cac",
   "metadata": {},
   "outputs": [],
   "source": [
    "from sklearn.model_selection import train_test_split\n",
    "from sklearn.metrics import accuracy_score\n",
    "from sklearn.preprocessing import LabelEncoder\n",
    "import numpy as np\n",
    "import pandas as pd\n",
    "import xgboost as xgb\n",
    "import os"
   ]
  },
  {
   "cell_type": "markdown",
   "id": "d92ae0ba-7aac-4ef2-8864-c0dbfa2c59f2",
   "metadata": {},
   "source": [
    "## Import Dataset untuk Sample Machine Learningnya"
   ]
  },
  {
   "cell_type": "code",
   "execution_count": 9,
   "id": "13610387-3f77-4312-84e8-d98b37586ed9",
   "metadata": {},
   "outputs": [],
   "source": [
    "df = pd.read_csv('weather_classification_data.csv')\n",
    "df"
   ]
  },
  {
   "cell_type": "markdown",
   "id": "17b2ce27-633d-40dd-8574-3efe86e55da8",
   "metadata": {},
   "source": [
    "## Inisialisasi untuk data yang berbentuk text / kata\n",
    "Mengubah Table yang berisi text / kata agar nantinya dapat di baca oleh sistem. mengubah pada semua table yang ada text / kata nya, ke bentuk numerik (0,1,2-seterusnya)"
   ]
  },
  {
   "cell_type": "code",
   "execution_count": null,
   "id": "45a73438-c516-48c8-9f26-122a93762ccc",
   "metadata": {},
   "outputs": [],
   "source": [
    "encoder = LabelEncoder()"
   ]
  },
  {
   "cell_type": "markdown",
   "id": "3822ba13-eb57-4382-a344-714467ce5a4b",
   "metadata": {},
   "source": [
    "### Melakukan Transformasi untuk bagian Feature Data "
   ]
  },
  {
   "cell_type": "code",
   "execution_count": null,
   "id": "b33846f4-1621-4f0e-b679-38341c2e06fc",
   "metadata": {},
   "outputs": [],
   "source": [
    "df['Cloud Cover']   = encoder.fit_transform(df['Cloud Cover'])\n",
    "df['Location']      = encoder.fit_transform(df['Location'])\n",
    "df['Season']        = encoder.fit_transform(df['Season'])"
   ]
  },
  {
   "cell_type": "markdown",
   "id": "0774b479-40f1-49ab-b181-0bc6501764f7",
   "metadata": {},
   "source": [
    "### Melakukan Transformasi untuk bagian Target Data"
   ]
  },
  {
   "cell_type": "code",
   "execution_count": null,
   "id": "ddde6c4f-c701-4442-a40d-8288aad609a7",
   "metadata": {},
   "outputs": [],
   "source": [
    "y_target = encoder.fit_transform(df[\"Weather Type\"])"
   ]
  },
  {
   "cell_type": "markdown",
   "id": "51b91ca8-b4f0-4d8c-854f-628907369b50",
   "metadata": {},
   "source": [
    "### Melakukan pemisahan dataset dari Target Datanya"
   ]
  },
  {
   "cell_type": "code",
   "execution_count": null,
   "id": "8421b6fa-fd06-4d2a-be03-08649cf1834a",
   "metadata": {},
   "outputs": [],
   "source": [
    "dataset = df[[i for i in df.columns[:-1]]]\n",
    "dataset"
   ]
  },
  {
   "cell_type": "markdown",
   "id": "d580d797-3cf9-4017-8f78-2f0222762054",
   "metadata": {},
   "source": [
    "### Melakukan pembagian dataset\n",
    "Pembagian untuk **Training Data** dan **Test Data**"
   ]
  },
  {
   "cell_type": "code",
   "execution_count": null,
   "id": "86c0e6e3-f855-43ae-a772-2c2383f4e027",
   "metadata": {},
   "outputs": [],
   "source": [
    "x_train, x_test, y_train, y_test = train_test_split(dataset, \n",
    "                                                    y_target,\n",
    "                                                    test_size=0.2,\n",
    "                                                    random_state=50)"
   ]
  },
  {
   "cell_type": "markdown",
   "id": "4f7691ef-e087-4476-aa33-3bef66896ef0",
   "metadata": {},
   "source": [
    "## Menentukan Parameter untuk membuat Model ML\n",
    "\n",
    "- **objective: 'multi:softmax'**\n",
    "  Untuk menentukan jenis klasifikasi. **'multi:softmax'** berarti model menggunakan softmax untuk klasifikasi multikelas.\n",
    "- **num_class: len(df.columns[:-1])**\n",
    "  Untuk menentukan jumlah kelas dalam masalah klasifikasi. **df.columns[:-1]** mengambil semua kolom kecuali kolom terakhir (biasanya label/target).\n",
    "- **eta: 0.01**\n",
    "  Untuk Learning rate, juga dikenal sebagai step size shrinkage. Nilai kecil (misalnya 0.01) membantu model belajar lebih lambat tetapi lebih stabil.\n",
    "- **max_depth: 6**\n",
    "  Untuk menentukan kedalaman maksimum pohon keputusan dalam model. Kedalaman yang lebih besar dapat meningkatkan kapasitas model tetapi juga meningkatkan risiko overfitting."
   ]
  },
  {
   "cell_type": "code",
   "execution_count": null,
   "id": "6c67dc0d-b103-4d6d-861b-92eedd6e791e",
   "metadata": {},
   "outputs": [],
   "source": [
    "parameters = {\n",
    "    'objective':'multi:softmax',\n",
    "    'num_class': len(df.columns[:-1]),\n",
    "    'eta': 0.01,\n",
    "    'max_depth': 6,\n",
    "}"
   ]
  },
  {
   "cell_type": "markdown",
   "id": "89ab682e-80c2-4a03-9e17-7d8dd09a5394",
   "metadata": {},
   "source": [
    "## Melakukan pembuatan Model Machine Learning dengan XGBClassifier"
   ]
  },
  {
   "cell_type": "code",
   "execution_count": null,
   "id": "4a63079b-8a2b-444c-8821-3ea67ebe546c",
   "metadata": {},
   "outputs": [],
   "source": [
    "model = xgb.XGBClassifier(\n",
    "    parameters\n",
    ")"
   ]
  },
  {
   "cell_type": "code",
   "execution_count": null,
   "id": "9d923a60-f7a0-43e3-b1d5-d35a75ac1d76",
   "metadata": {},
   "outputs": [],
   "source": [
    "model.fit(x_train, y_train)\n",
    "model.save_model(\"XGBClassifier.json\")"
   ]
  },
  {
   "cell_type": "code",
   "execution_count": null,
   "id": "50b246c8-6d31-473f-b598-c567f181bc63",
   "metadata": {},
   "outputs": [],
   "source": [
    "pred = model.predict(x_test)\n",
    "\n",
    "# Hitung akurasi prediksi\n",
    "accuracy = accuracy_score(y_test, pred)\n",
    "print(\"Accuracy:\", accuracy)\n",
    "\n",
    "pred = encoder.inverse_transform(pred)\n",
    "y_test = encoder.inverse_transform(y_test)"
   ]
  },
  {
   "cell_type": "code",
   "execution_count": null,
   "id": "5dd7e0a4-8198-4184-9773-71d06fc801e3",
   "metadata": {},
   "outputs": [],
   "source": [
    "database_salah = []\n",
    "database_benar = []\n",
    "db = []\n",
    "\n",
    "for prediction, target in zip(pred, y_test):\n",
    "    data = f'Prediction: {prediction}\\tTarget: {target}'\n",
    "    if prediction != target:\n",
    "        db.append('Salah')\n",
    "        database_salah.append(data)\n",
    "    else:\n",
    "        db.append('Benar')\n",
    "        database_benar.append(data)\n",
    "\n",
    "data = zip(\n",
    "    np.array(pred),\n",
    "    np.array(y_test),\n",
    "    np.array(db)\n",
    ")\n",
    "\n",
    "dfPrediction = pd.DataFrame(data, columns=['Prediction', 'Target','Salah/Benar'])\n",
    "print(f'Jumalah data Precision salah: {len(database_salah)}')\n",
    "print(f'Jumalah data Precision benar: {len(database_benar)}')"
   ]
  }
 ],
 "metadata": {
  "kernelspec": {
   "display_name": "Python 3 (ipykernel)",
   "language": "python",
   "name": "python3"
  },
  "language_info": {
   "codemirror_mode": {
    "name": "ipython",
    "version": 3
   },
   "file_extension": ".py",
   "mimetype": "text/x-python",
   "name": "python",
   "nbconvert_exporter": "python",
   "pygments_lexer": "ipython3",
   "version": "3.12.4"
  }
 },
 "nbformat": 4,
 "nbformat_minor": 5
}
